{
 "cells": [
  {
   "cell_type": "markdown",
   "metadata": {},
   "source": [
    "# Demo Notebook for the Orca Detector Project\n",
    "#### Spyros Garyfallos, Mike Winton, Ram Iyer"
   ]
  },
  {
   "cell_type": "markdown",
   "metadata": {},
   "source": [
    "### Import Dependencies"
   ]
  },
  {
   "cell_type": "code",
   "execution_count": 1,
   "metadata": {
    "scrolled": true
   },
   "outputs": [
    {
     "name": "stderr",
     "output_type": "stream",
     "text": [
      "Using TensorFlow backend.\n"
     ]
    }
   ],
   "source": [
    "import glob\n",
    "import os\n",
    "import pandas as pd\n",
    "import shutil\n",
    "import datetime\n",
    "import time\n",
    "import numpy as np\n",
    "\n",
    "import random\n",
    "import IPython.display as ipd\n",
    "import urllib\n",
    "\n",
    "import  orca_params\n",
    "from live_feed_listener import perform_inference\n",
    "from inference import create_network\n",
    "\n",
    "from scipy.io import wavfile\n",
    "import ipywidgets as widgets\n",
    "from IPython.display import display\n",
    "\n",
    "import shutil\n",
    "\n",
    "import matplotlib.pyplot as plt\n",
    "%matplotlib inline\n",
    "\n",
    "import librosa\n",
    "import librosa.display\n",
    "import mel_params\n",
    "\n",
    "import demo_helper"
   ]
  },
  {
   "cell_type": "markdown",
   "metadata": {},
   "source": [
    "## Instantiate object to process input data from raw audio files and convert to dataframe"
   ]
  },
  {
   "cell_type": "code",
   "execution_count": 2,
   "metadata": {},
   "outputs": [],
   "source": [
    "from IPython.utils import io\n",
    "with io.capture_output() as captured:\n",
    "    mammals = demo_helper.MammalFind()"
   ]
  },
  {
   "cell_type": "markdown",
   "metadata": {},
   "source": [
    "### Filter out labels which have very few samples"
   ]
  },
  {
   "cell_type": "code",
   "execution_count": 3,
   "metadata": {},
   "outputs": [],
   "source": [
    "valid_labels = mammals.get_valid_labels()"
   ]
  },
  {
   "cell_type": "code",
   "execution_count": 4,
   "metadata": {},
   "outputs": [],
   "source": [
    "mel_utils = demo_helper.MelUtils()"
   ]
  },
  {
   "cell_type": "markdown",
   "metadata": {},
   "source": [
    "### Code to run Inference"
   ]
  },
  {
   "cell_type": "code",
   "execution_count": 5,
   "metadata": {
    "scrolled": true
   },
   "outputs": [
    {
     "name": "stdout",
     "output_type": "stream",
     "text": [
      "Loading trained LabelEncoder from /results/label_encoder_latest.p\n",
      "WARNING:tensorflow:From /usr/local/lib/python3.5/dist-packages/tensorflow/python/framework/op_def_library.py:263: colocate_with (from tensorflow.python.framework.ops) is deprecated and will be removed in a future version.\n",
      "Instructions for updating:\n",
      "Colocations handled automatically by placer.\n",
      "WARNING:tensorflow:From /usr/local/lib/python3.5/dist-packages/keras/backend/tensorflow_backend.py:3445: calling dropout (from tensorflow.python.ops.nn_ops) with keep_prob is deprecated and will be removed in a future version.\n",
      "Instructions for updating:\n",
      "Please use `rate` instead of `keep_prob`. Rate should be set to `rate = 1 - keep_prob`.\n",
      "Loading weights from /results/vggish/weights.best.hdf5\n",
      "_________________________________________________________________\n",
      "Layer (type)                 Output Shape              Param #   \n",
      "=================================================================\n",
      "input_1 (InputLayer)         (None, 96, 64, 1)         0         \n",
      "_________________________________________________________________\n",
      "batch_normalization_1 (Batch (None, 96, 64, 1)         4         \n",
      "_________________________________________________________________\n",
      "conv1 (Conv2D)               (None, 96, 64, 64)        640       \n",
      "_________________________________________________________________\n",
      "pool1 (MaxPooling2D)         (None, 48, 32, 64)        0         \n",
      "_________________________________________________________________\n",
      "conv2 (Conv2D)               (None, 48, 32, 128)       73856     \n",
      "_________________________________________________________________\n",
      "pool2 (MaxPooling2D)         (None, 24, 16, 128)       0         \n",
      "_________________________________________________________________\n",
      "conv3/conv3_1 (Conv2D)       (None, 24, 16, 256)       295168    \n",
      "_________________________________________________________________\n",
      "conv3/conv3_2 (Conv2D)       (None, 24, 16, 256)       590080    \n",
      "_________________________________________________________________\n",
      "pool3 (MaxPooling2D)         (None, 12, 8, 256)        0         \n",
      "_________________________________________________________________\n",
      "conv4/conv4_1 (Conv2D)       (None, 12, 8, 512)        1180160   \n",
      "_________________________________________________________________\n",
      "conv4/conv4_2 (Conv2D)       (None, 12, 8, 512)        2359808   \n",
      "_________________________________________________________________\n",
      "orca_dropout (Dropout)       (None, 12, 8, 512)        0         \n",
      "_________________________________________________________________\n",
      "orca_pool4 (MaxPooling2D)    (None, 6, 4, 512)         0         \n",
      "_________________________________________________________________\n",
      "orca_flatten (Flatten)       (None, 12288)             0         \n",
      "_________________________________________________________________\n",
      "orca_fc1/orca_fc1_1 (Dense)  (None, 256)               3145984   \n",
      "_________________________________________________________________\n",
      "orca_fc1/orca_fc1_2 (Dense)  (None, 256)               65792     \n",
      "_________________________________________________________________\n",
      "orca_softmax (Dense)         (None, 39)                10023     \n",
      "=================================================================\n",
      "Total params: 7,721,515\n",
      "Trainable params: 7,721,513\n",
      "Non-trainable params: 2\n",
      "_________________________________________________________________\n",
      "Compiled OrcaVGGish model with adam optimizer (lr=0.001) and categorical_crossentropy loss.\n"
     ]
    }
   ],
   "source": [
    "#from live_feed_listener import perform_inference\n",
    "weights_path = '/results/vggish/weights.best.hdf5'\n",
    "label_encoder_path = '/results/label_encoder_latest.p'\n",
    "probability_threshold = orca_params.LIVE_FEED_MINIMUM_INFERENCE_PROBABILITY\n",
    "model_name = orca_params.DEFAULT_MODEL_NAME\n",
    "inference_samples_path = \"./inference_output\"\n",
    "\n",
    "model, encoder = create_network(\n",
    "        model_name, label_encoder_path, weights_path)\n",
    "\n",
    "def display_inference_results(audio_source):\n",
    "    \n",
    "    if audio_source == \"mammal\":\n",
    "        inference_samples_path = \"./mammal_inference_path\"\n",
    "    elif audio_source == \"noise\":\n",
    "        inference_samples_path = \"./noise_inference_path\"\n",
    "    else:\n",
    "        inference_samples_path = \"./inference_output\"\n",
    "        \n",
    "    start_timestamp = datetime.datetime.now()\n",
    "    perform_inference(model,encoder, inference_samples_path, probability_threshold)\n",
    "\n",
    "    f = widgets.IntProgress(description = \"Processing Results\", bar_style=\"info\",min=0, max=3)\n",
    "    display(f)\n",
    "    for i in range(4):\n",
    "        f.value = i\n",
    "        time.sleep(0.5)\n",
    "\n",
    "    list_of_files = glob.glob('/results/detections/*/*/*.csv')\n",
    "    if len(list_of_files) == 0:\n",
    "        print(\"No species found\")\n",
    "        return\n",
    "    latest_file = max(list_of_files, key=os.path.getctime)\n",
    "\n",
    "    file_timestamp = datetime.datetime.fromtimestamp(os.path.getctime(latest_file))\n",
    "    print(\"start time {}, file time{}\".format(start_timestamp.isoformat('-'), file_timestamp.isoformat('-')))\n",
    "    if (file_timestamp <= start_timestamp):\n",
    "        print(\"No Species Detected\")\n",
    "        return\n",
    "\n",
    "    results_df = pd.read_csv(latest_file)\n",
    "    results_df = results_df[['0','1','2']]\n",
    "    results_df.columns = ['FileName','Species','Probability']\n",
    "    display(results_df)\n",
    "    species_detected = results_df.loc[results_df['Probability'].idxmax(),'Species']\n",
    "    print(\"Dominant Species detected is {}\".format(species_detected))\n",
    "        \n",
    "    return\n",
    "    "
   ]
  },
  {
   "cell_type": "markdown",
   "metadata": {},
   "source": [
    "### Define Utility functions for playing Audio"
   ]
  },
  {
   "cell_type": "code",
   "execution_count": 6,
   "metadata": {},
   "outputs": [],
   "source": [
    "def play_noise_sample(stream_name,volume):\n",
    "    file = demo_helper.get_noise_sample(stream_name,volume)\n",
    "    ipd.display(ipd.Audio(file))\n",
    "    return file"
   ]
  },
  {
   "cell_type": "code",
   "execution_count": 7,
   "metadata": {},
   "outputs": [],
   "source": [
    "def play_combined_sample(mammal_name, mammal_volume,\n",
    "                         noise_stream_name,noise_stream_volume):\n",
    "\n",
    "    file = demo_helper.get_combined_sample(mammal_name,mammal_volume,\n",
    "                                          noise_stream_name,noise_stream_volume)\n",
    "    \n",
    "    ipd.display(ipd.Audio(file))     \n",
    "   \n",
    "    return file"
   ]
  },
  {
   "cell_type": "markdown",
   "metadata": {},
   "source": [
    "### Define Widgets for the user interface"
   ]
  },
  {
   "cell_type": "code",
   "execution_count": 8,
   "metadata": {},
   "outputs": [],
   "source": [
    "mammal_play_time = 10\n",
    "mammal_plt_output = widgets.Output()\n",
    "noise_plt_output = widgets.Output()\n",
    "mammal_audio_output = widgets.Output()\n",
    "noise_audio_output = widgets.Output()\n",
    "combined_audio_output = widgets.Output()\n",
    "combined_plt_output = widgets.Output()\n",
    "combined_inference_output = widgets.Output()"
   ]
  },
  {
   "cell_type": "code",
   "execution_count": 9,
   "metadata": {},
   "outputs": [],
   "source": [
    "stream_bases = orca_params.ORCASOUND_STREAMS.keys()\n",
    "\n",
    "mammal_species = widgets.Dropdown(options=sorted(valid_labels), value=\"KillerWhale\")\n",
    "mammal_volume = widgets.FloatSlider(value=1.0,min=0, max=3, step=0.01, \n",
    "                                    description=\"Volume\",\n",
    "                                   continuous_update=False)\n",
    "\n",
    "noise_stream = widgets.Dropdown(options=stream_bases,value=\"OrcasoundLab\")\n",
    "noise_volume = widgets.FloatSlider(value=0.05,min=0, max=1, step=0.005, \n",
    "                                    description=\"Volume\",\n",
    "                                   continuous_update=False)\n",
    "\n",
    "inf_required = widgets.Checkbox(value=False, description = 'Run Inference', disabled=False)"
   ]
  },
  {
   "cell_type": "markdown",
   "metadata": {},
   "source": [
    "### Define callback functions"
   ]
  },
  {
   "cell_type": "code",
   "execution_count": 10,
   "metadata": {},
   "outputs": [],
   "source": [
    "def combined_processing(mammal_species, mammal_volume,\n",
    "                       noise_source, noise_volume):\n",
    "    \n",
    "    #print (\"Mammal Species {}\".format(mammal_species))\n",
    "    #print(\"Noise source {}\".format(noise_source) )\n",
    "    combined_plt_output.clear_output()\n",
    "    combined_audio_output.clear_output()\n",
    "    inf_required.value = False\n",
    "    \n",
    "    file_name = None\n",
    "    with combined_audio_output:\n",
    "        print(\"Combined Audio\")\n",
    "        file_name = play_combined_sample(mammal_species, mammal_volume,\n",
    "                                        noise_source, noise_volume)\n",
    "        mel_utils.display_wave(file_name)\n",
    "    with combined_plt_output:\n",
    "        print(\"Combined Mel Spectrogram\")\n",
    "        mel_utils.display_mel(file_name)\n",
    "\n",
    "def mammal_processing(species,volume):\n",
    "    mammal_plt_output.clear_output()\n",
    "    mammal_audio_output.clear_output()\n",
    "    inf_required.value = False\n",
    "    \n",
    "    with mammal_audio_output:\n",
    "        s_file = mammals.get_sample_sound(species,volume,mammal_play_time)\n",
    "        print(s_file)\n",
    "        ipd.display(ipd.Audio(s_file))\n",
    "        mel_utils.display_wave(\"./display_sounds/output.wav\")\n",
    "    with mammal_plt_output:\n",
    "        mel_utils.display_mel(\"./display_sounds/output.wav\")\n",
    "        \n",
    "def noise_processing(noise_source,volume):\n",
    "    noise_audio_output.clear_output()\n",
    "    noise_plt_output.clear_output()\n",
    "    inf_required.value = False\n",
    "    \n",
    "    file_name = None\n",
    "    with noise_audio_output:\n",
    "        file_name = play_noise_sample(noise_source,volume)\n",
    "        mel_utils.display_wave(file_name)\n",
    "    with noise_plt_output:\n",
    "        mel_utils.display_mel(file_name)\n",
    "        "
   ]
  },
  {
   "cell_type": "markdown",
   "metadata": {},
   "source": [
    "### Define Event Handlers"
   ]
  },
  {
   "cell_type": "code",
   "execution_count": 11,
   "metadata": {},
   "outputs": [],
   "source": [
    "def mammal_species_eventhandler(change):\n",
    "    new_species = mammals.get_sample(change.new)\n",
    "    mammal_processing(new_species,mammal_volume.value)\n",
    "    combined_processing(new_species,mammal_volume.value,\n",
    "                       noise_stream.value, noise_volume.value)\n",
    "    \n",
    "def mammal_volume_eventhandler(change):\n",
    "    species = mammals.get_sample(mammal_species.value)\n",
    "    mammal_processing(species, change.new)\n",
    "    combined_processing(species,change.new,\n",
    "                       noise_stream.value, noise_volume.value)\n",
    "\n",
    "def noise_stream_eventhandler(change):\n",
    "    species = mammals.get_sample(mammal_species.value)\n",
    "    noise_processing(change.new,noise_volume.value)\n",
    "    combined_processing(species,mammal_volume.value,\n",
    "                       change.new,noise_volume.value)\n",
    "    \n",
    "def noise_volume_eventhandler(change):\n",
    "    species = mammals.get_sample(mammal_species.value)\n",
    "    noise_processing(noise_stream.value, change.new)\n",
    "    combined_processing(species,mammal_volume.value,\n",
    "                        noise_stream.value,change.new)\n",
    "    \n",
    "def inference_eventhandler(change):\n",
    "    combined_inference_output.clear_output()\n",
    "    if (change.new == True):\n",
    "        with combined_inference_output:\n",
    "            display_inference_results(\"combined\")\n",
    "\n",
    "noise_stream.observe(noise_stream_eventhandler, names='value')\n",
    "noise_volume.observe(noise_volume_eventhandler, names='value')\n",
    "mammal_volume.observe(mammal_volume_eventhandler, names='value')\n",
    "mammal_species.observe(mammal_species_eventhandler, names='value')\n",
    "inf_required.observe(inference_eventhandler, names='value')"
   ]
  },
  {
   "cell_type": "markdown",
   "metadata": {},
   "source": [
    "### Setup and Launch the Simulation Interface"
   ]
  },
  {
   "cell_type": "code",
   "execution_count": 12,
   "metadata": {
    "scrolled": false
   },
   "outputs": [
    {
     "data": {
      "application/vnd.jupyter.widget-view+json": {
       "model_id": "72ac6314bc7244e591d00454ff65baf3",
       "version_major": 2,
       "version_minor": 0
      },
      "text/plain": [
       "VBox(children=(HBox(children=(Dropdown(index=18, options=('AtlanticSpottedDolphin', 'BeardedSeal', 'Beluga_Whi…"
      ]
     },
     "metadata": {},
     "output_type": "display_data"
    },
    {
     "data": {
      "application/vnd.jupyter.widget-view+json": {
       "model_id": "5659f76c5d0e43b39a50c35acbb0d4b2",
       "version_major": 2,
       "version_minor": 0
      },
      "text/plain": [
       "VBox(children=(HBox(children=(Dropdown(options=('OrcasoundLab', 'PortTownsend', 'BushPoint'), value='Orcasound…"
      ]
     },
     "metadata": {},
     "output_type": "display_data"
    },
    {
     "data": {
      "application/vnd.jupyter.widget-view+json": {
       "model_id": "4b3c0405b12c4d9f90186a263746c87e",
       "version_major": 2,
       "version_minor": 0
      },
      "text/plain": [
       "Tab(children=(Output(), Output()), _titles={'0': 'Mel Spectogram', '1': 'Audio'})"
      ]
     },
     "metadata": {},
     "output_type": "display_data"
    },
    {
     "data": {
      "application/vnd.jupyter.widget-view+json": {
       "model_id": "017d91a1e951472fbb3fe9a00486e765",
       "version_major": 2,
       "version_minor": 0
      },
      "text/plain": [
       "Checkbox(value=False, description='Run Inference')"
      ]
     },
     "metadata": {},
     "output_type": "display_data"
    },
    {
     "data": {
      "application/vnd.jupyter.widget-view+json": {
       "model_id": "66b838c64f9e424d8637541529dba97a",
       "version_major": 2,
       "version_minor": 0
      },
      "text/plain": [
       "Output()"
      ]
     },
     "metadata": {},
     "output_type": "display_data"
    }
   ],
   "source": [
    "#Display initial snapshot\n",
    "\n",
    "species = mammals.get_sample(mammal_species.value)\n",
    "\n",
    "mammal_processing(species, mammal_volume.value)\n",
    "noise_processing(noise_stream.value, noise_volume.value)\n",
    "combined_processing(species,mammal_volume.value,\n",
    "                        noise_stream.value,noise_volume.value)\n",
    "\n",
    "mammal_control_widgets = widgets.HBox([mammal_species,mammal_volume])\n",
    "mammals_tab = widgets.Tab([mammal_plt_output,mammal_audio_output])\n",
    "mammals_tab.set_title(0,\"Mel Spectogram\")\n",
    "mammals_tab.set_title(1,\"Audio\")\n",
    "mammal_widgets = widgets.VBox([mammal_control_widgets,mammals_tab])\n",
    "display(mammal_widgets)\n",
    "\n",
    "noise_control_widgets = widgets.HBox([noise_stream,noise_volume])\n",
    "noise_tab = widgets.Tab([noise_plt_output, noise_audio_output])\n",
    "noise_tab.set_title(0,\"Mel Spectogram\")\n",
    "noise_tab.set_title(1,\"Audio\")\n",
    "noise_widgets = widgets.VBox([noise_control_widgets, noise_tab])\n",
    "display(noise_widgets)\n",
    "\n",
    "combined_tab = widgets.Tab([combined_plt_output,combined_audio_output])\n",
    "combined_tab.set_title(0,\"Mel Spectogram\")\n",
    "combined_tab.set_title(1,\"Audio\")\n",
    "display(combined_tab)\n",
    "display(inf_required)\n",
    "display(combined_inference_output)"
   ]
  },
  {
   "cell_type": "code",
   "execution_count": null,
   "metadata": {},
   "outputs": [],
   "source": []
  }
 ],
 "metadata": {
  "kernelspec": {
   "display_name": "Python 3",
   "language": "python",
   "name": "python3"
  },
  "language_info": {
   "codemirror_mode": {
    "name": "ipython",
    "version": 3
   },
   "file_extension": ".py",
   "mimetype": "text/x-python",
   "name": "python",
   "nbconvert_exporter": "python",
   "pygments_lexer": "ipython3",
   "version": "3.5.2"
  }
 },
 "nbformat": 4,
 "nbformat_minor": 2
}
